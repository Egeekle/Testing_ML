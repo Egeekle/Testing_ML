{
 "cells": [
  {
   "cell_type": "markdown",
   "metadata": {},
   "source": [
    "## La POO es un paradigma de programación basado en el concepto de \"objetos\", que pueden contener datos y código: datos en forma de atributos (también conocidos como campos o propiedades) y código en forma de métodos (funciones asociadas a las clases).\n",
    "\n",
    "## Conceptos de POO:\n",
    "\n",
    "- Clases: Son los \"planos\" o plantillas para crear objetos. Definen un tipo de dato que incluye tanto variables de instancia (atributos) como funciones (métodos).\n",
    "\n",
    "- Objetos: Son instancias de clases. Cada objeto puede tener diferentes valores para sus atributos.\n",
    "\n",
    "- Atributos: Son variables asociadas a un objeto o clase.\n",
    "\n",
    "- Métodos: Son funciones definidas dentro de una clase y pueden ser utilizados por los objetos de esa clase.\n",
    "\n",
    "- Encapsulación: Se refiere a la restricción del acceso directo a algunos componentes de un objeto.\n",
    "\n",
    "- Herencia: Es un mecanismo por el que una clase puede heredar atributos y métodos de otra clase.\n",
    "\n",
    "- Polimorfismo: Es la capacidad de utilizar una interfaz para diferentes tipos de datos."
   ]
  },
  {
   "cell_type": "markdown",
   "metadata": {},
   "source": [
    "## Definición de Clases y Objetos:"
   ]
  },
  {
   "cell_type": "code",
   "execution_count": 1,
   "metadata": {},
   "outputs": [
    {
     "name": "stdout",
     "output_type": "stream",
     "text": [
      "Felix dice miau\n"
     ]
    }
   ],
   "source": [
    "class Animal:\n",
    "    def __init__(self, nombre, sonido):\n",
    "        self.nombre = nombre  # Atributo\n",
    "        self.sonido = sonido  # Atributo\n",
    "\n",
    "    def hablar(self):  # Método\n",
    "        return f\"{self.nombre} dice {self.sonido}\"\n",
    "\n",
    "# Creando un objeto de la clase Animal\n",
    "gato = Animal(\"Felix\", \"miau\")\n",
    "print(gato.hablar())  # Felix dice miau"
   ]
  },
  {
   "cell_type": "markdown",
   "metadata": {},
   "source": [
    "## Herencia:"
   ]
  },
  {
   "cell_type": "code",
   "execution_count": 2,
   "metadata": {},
   "outputs": [
    {
     "name": "stdout",
     "output_type": "stream",
     "text": [
      "Yo soy un Perro\n",
      "Guau!\n"
     ]
    }
   ],
   "source": [
    "# Clase base o superclase\n",
    "class Animal:\n",
    "    def __init__(self, nombre):\n",
    "        self.nombre = nombre\n",
    "\n",
    "    def presentarse(self):\n",
    "        return f\"Yo soy un {self.nombre}\"\n",
    "\n",
    "# Clase derivada o subclase\n",
    "class Perro(Animal):\n",
    "    def hablar(self):\n",
    "        return \"Guau!\"\n",
    "\n",
    "# Uso de la clase derivada\n",
    "my_dog = Perro(\"Perro\")\n",
    "print(my_dog.presentarse())  # Yo soy un Perro\n",
    "print(my_dog.hablar())  # Guau!\n"
   ]
  },
  {
   "cell_type": "markdown",
   "metadata": {},
   "source": [
    "## Composición:"
   ]
  },
  {
   "cell_type": "code",
   "execution_count": 3,
   "metadata": {},
   "outputs": [
    {
     "name": "stdout",
     "output_type": "stream",
     "text": [
      "Libro: Cien años de soledad\n",
      "Autor: Gabriel García Márquez, Nacionalidad: Colombiana\n",
      "Editorial: Sudamericana, Ubicación: Argentina\n"
     ]
    }
   ],
   "source": [
    "class Autor:\n",
    "    def __init__(self, nombre, nacionalidad):\n",
    "        self.nombre = nombre\n",
    "        self.nacionalidad = nacionalidad\n",
    "\n",
    "    def mostrar_informacion(self):\n",
    "        print(f\"Autor: {self.nombre}, Nacionalidad: {self.nacionalidad}\")\n",
    "\n",
    "class Editorial:\n",
    "    def __init__(self, nombre, ubicacion):\n",
    "        self.nombre = nombre\n",
    "        self.ubicacion = ubicacion\n",
    "\n",
    "    def mostrar_informacion(self):\n",
    "        print(f\"Editorial: {self.nombre}, Ubicación: {self.ubicacion}\")\n",
    "\n",
    "class Libro:\n",
    "    def __init__(self, titulo, autor, editorial):\n",
    "        self.titulo = titulo\n",
    "        self.autor = autor  # Composición: Libro \"tiene un\" Autor\n",
    "        self.editorial = editorial  # Composición: Libro \"tiene una\" Editorial\n",
    "\n",
    "    def mostrar_informacion(self):\n",
    "        print(f\"Libro: {self.titulo}\")\n",
    "        self.autor.mostrar_informacion()\n",
    "        self.editorial.mostrar_informacion()\n",
    "\n",
    "# Creando instancias de Autor y Editorial\n",
    "mi_autor = Autor(\"Gabriel García Márquez\", \"Colombiana\")\n",
    "mi_editorial = Editorial(\"Sudamericana\", \"Argentina\")\n",
    "\n",
    "# Creando una instancia de Libro usando composición\n",
    "mi_libro = Libro(\"Cien años de soledad\", mi_autor, mi_editorial)\n",
    "mi_libro.mostrar_informacion()\n"
   ]
  },
  {
   "cell_type": "code",
   "execution_count": 2,
   "metadata": {},
   "outputs": [
    {
     "name": "stdout",
     "output_type": "stream",
     "text": [
      "encendido\n"
     ]
    }
   ],
   "source": [
    "class Motor:\n",
    "    def __init__(self, cilindros):\n",
    "        self.cilindros = cilindros\n",
    "        self.estado = 'apagado'\n",
    "\n",
    "    def encender(self):\n",
    "        self.estado = 'encendido'\n",
    "\n",
    "class Coche:\n",
    "    def __init__(self, modelo):\n",
    "        self.modelo = modelo\n",
    "        self.motor = Motor(4)  # Composición\n",
    "\n",
    "# Uso de composición\n",
    "my_car = Coche(\"Toyota\")\n",
    "my_car.motor.encender()\n",
    "print(my_car.motor.estado)  # encendido\n"
   ]
  },
  {
   "cell_type": "markdown",
   "metadata": {},
   "source": [
    "## Clase para modelo de ML"
   ]
  },
  {
   "cell_type": "code",
   "execution_count": 5,
   "metadata": {},
   "outputs": [],
   "source": [
    "from sklearn.linear_model import LinearRegression as SKLinearRegression\n",
    "\n",
    "class LinearRegression:\n",
    "    def __init__(self):\n",
    "        self.model = SKLinearRegression()\n",
    "\n",
    "    def fit(self, X, y):\n",
    "        # X e y deben ser formatos adecuados, por ejemplo, listas de listas o arrays de NumPy\n",
    "        # X: [[valor1], [valor2], [valor3], ...] - caracteristicas\n",
    "        # y: [resultado1, resultado2, resultado3, ...] - objetivo\n",
    "        self.model.fit(X, y)\n",
    "\n",
    "    def predict(self, X):\n",
    "        # Verificamos si el modelo ha sido entrenado\n",
    "        if self.model.coef_ is None:\n",
    "            raise ValueError(\"Modelo no ha sido entrenado aún.\")\n",
    "        return self.model.predict(X)"
   ]
  },
  {
   "cell_type": "code",
   "execution_count": 6,
   "metadata": {},
   "outputs": [
    {
     "name": "stdout",
     "output_type": "stream",
     "text": [
      "[7.]\n"
     ]
    }
   ],
   "source": [
    "import numpy as np\n",
    "\n",
    "# Creando datos de ejemplo\n",
    "X = np.array([[1], [2], [3], [4]])  # Características (usualmente más dimensiones)\n",
    "y = np.array([2, 3, 4, 5])         # Objetivo\n",
    "\n",
    "# Usando la clase de regresión lineal\n",
    "modelo = LinearRegression()\n",
    "modelo.fit(X, y)  # Ajustamos el modelo\n",
    "print(modelo.predict([[6]]))  # Hacemos una predicción"
   ]
  },
  {
   "cell_type": "code",
   "execution_count": null,
   "metadata": {},
   "outputs": [],
   "source": []
  }
 ],
 "metadata": {
  "kernelspec": {
   "display_name": "Python 3",
   "language": "python",
   "name": "python3"
  },
  "language_info": {
   "codemirror_mode": {
    "name": "ipython",
    "version": 3
   },
   "file_extension": ".py",
   "mimetype": "text/x-python",
   "name": "python",
   "nbconvert_exporter": "python",
   "pygments_lexer": "ipython3",
   "version": "3.10.11"
  }
 },
 "nbformat": 4,
 "nbformat_minor": 2
}
