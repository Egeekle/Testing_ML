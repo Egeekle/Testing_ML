{
 "cells": [
  {
   "cell_type": "markdown",
   "metadata": {},
   "source": [
    "# 1. Variables en Python\n",
    "En Python, las variables se utilizan para almacenar información que puede ser referenciada y manipulada en un programa. No necesitas declarar el tipo de una variable explícitamente. El tipo es inferido automáticamente cuando asignas un valor a la variable."
   ]
  },
  {
   "cell_type": "code",
   "execution_count": 1,
   "metadata": {},
   "outputs": [
    {
     "name": "stdout",
     "output_type": "stream",
     "text": [
      "10\n",
      "Alice\n",
      "99.99\n",
      "True\n"
     ]
    }
   ],
   "source": [
    "# Asignación de variables\n",
    "numero = 10             # Un entero (int)\n",
    "nombre = \"Alice\"        # Una cadena de texto (str)\n",
    "precio = 99.99          # Un número de punto flotante (float)\n",
    "esta_activo = True      # Un valor booleano (bool)\n",
    "\n",
    "# Mostrar los valores de las variables\n",
    "print(numero)\n",
    "print(nombre)\n",
    "print(precio)\n",
    "print(esta_activo)\n"
   ]
  },
  {
   "cell_type": "markdown",
   "metadata": {},
   "source": [
    "# 2. Estructuras de Control:\n",
    "Las estructuras de control en Python te permiten dirigir el flujo del programa. Python utiliza la indentación para definir bloques de código."
   ]
  },
  {
   "cell_type": "markdown",
   "metadata": {},
   "source": [
    "## 2.1. Condicional (if, elif, else):"
   ]
  },
  {
   "cell_type": "code",
   "execution_count": 2,
   "metadata": {},
   "outputs": [
    {
     "name": "stdout",
     "output_type": "stream",
     "text": [
      "Adulto\n"
     ]
    }
   ],
   "source": [
    "edad = 20\n",
    "\n",
    "if edad < 18:\n",
    "    print(\"Menor de edad\")\n",
    "elif edad >= 18 and edad < 60:\n",
    "    print(\"Adulto\")\n",
    "else:\n",
    "    print(\"Adulto mayor\")\n"
   ]
  },
  {
   "cell_type": "markdown",
   "metadata": {},
   "source": [
    "## 2.2. Bucles (for, while):"
   ]
  },
  {
   "cell_type": "markdown",
   "metadata": {},
   "source": [
    "Bucle 'For': Utilizado para iterar sobre una secuencia (lista, tupla, diccionario, conjunto o cadena)."
   ]
  },
  {
   "cell_type": "code",
   "execution_count": 3,
   "metadata": {},
   "outputs": [
    {
     "name": "stdout",
     "output_type": "stream",
     "text": [
      "manzana\n",
      "plátano\n",
      "cereza\n"
     ]
    }
   ],
   "source": [
    "# Iterar sobre una lista\n",
    "frutas = [\"manzana\", \"plátano\", \"cereza\"]\n",
    "for fruta in frutas:\n",
    "    print(fruta)"
   ]
  },
  {
   "cell_type": "markdown",
   "metadata": {},
   "source": [
    "Bucle 'While': Repite una instrucción o grupo de instrucciones mientras una condición dada es verdadera."
   ]
  },
  {
   "cell_type": "code",
   "execution_count": 4,
   "metadata": {},
   "outputs": [
    {
     "name": "stdout",
     "output_type": "stream",
     "text": [
      "0\n",
      "1\n",
      "2\n",
      "3\n",
      "4\n"
     ]
    }
   ],
   "source": [
    "# Repetir mientras la condición sea verdadera\n",
    "contador = 0\n",
    "while contador < 5:\n",
    "    print(contador)\n",
    "    contador += 1\n"
   ]
  },
  {
   "cell_type": "markdown",
   "metadata": {},
   "source": [
    "# 3. Funciones en Python:\n",
    "Las funciones en Python son bloques de código que solo se ejecutan cuando se llaman. Pueden recibir datos para trabajar (conocidos como parámetros) y pueden devolver datos como resultado."
   ]
  },
  {
   "cell_type": "code",
   "execution_count": 5,
   "metadata": {},
   "outputs": [
    {
     "name": "stdout",
     "output_type": "stream",
     "text": [
      "Hola, Alice\n",
      "12\n"
     ]
    }
   ],
   "source": [
    "# Definir una función\n",
    "def saluda(nombre):\n",
    "    return \"Hola, \" + nombre\n",
    "\n",
    "# Llamar a la función\n",
    "mensaje = saluda(\"Alice\")\n",
    "print(mensaje)\n",
    "\n",
    "# Función con varios parámetros\n",
    "def suma(a, b):\n",
    "    return a + b\n",
    "\n",
    "# Llamar a la función y mostrar el resultado\n",
    "print(suma(5, 7))\n"
   ]
  },
  {
   "cell_type": "code",
   "execution_count": null,
   "metadata": {},
   "outputs": [],
   "source": []
  }
 ],
 "metadata": {
  "kernelspec": {
   "display_name": "Python 3",
   "language": "python",
   "name": "python3"
  },
  "language_info": {
   "codemirror_mode": {
    "name": "ipython",
    "version": 3
   },
   "file_extension": ".py",
   "mimetype": "text/x-python",
   "name": "python",
   "nbconvert_exporter": "python",
   "pygments_lexer": "ipython3",
   "version": "3.10.11"
  }
 },
 "nbformat": 4,
 "nbformat_minor": 2
}
